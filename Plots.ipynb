{
 "cells": [
  {
   "cell_type": "markdown",
   "id": "5e19ad25",
   "metadata": {},
   "source": [
    "# Plots : total vs polyA"
   ]
  },
  {
   "cell_type": "code",
   "execution_count": 1,
   "id": "2a94cdcf",
   "metadata": {},
   "outputs": [
    {
     "name": "stderr",
     "output_type": "stream",
     "text": [
      "C:\\Users\\33651\\anaconda3\\Lib\\site-packages\\pandas\\core\\arrays\\masked.py:60: UserWarning: Pandas requires version '1.3.6' or newer of 'bottleneck' (version '1.3.5' currently installed).\n",
      "  from pandas.core import (\n"
     ]
    }
   ],
   "source": [
    "import pandas as pd\n",
    "import numpy as np\n",
    "import matplotlib.pyplot as plt\n",
    "import seaborn as sns\n",
    "from matplotlib.backends.backend_pdf import PdfPages"
   ]
  },
  {
   "cell_type": "markdown",
   "id": "2cf362e8",
   "metadata": {},
   "source": [
    "## Plots pour tous les gènes"
   ]
  },
  {
   "cell_type": "code",
   "execution_count": 2,
   "id": "268f9ba7",
   "metadata": {},
   "outputs": [],
   "source": [
    "profondeur_grouped = pd.read_csv('profondeur_grouped', sep=\"\\t\")"
   ]
  },
  {
   "cell_type": "markdown",
   "id": "e6a9d434",
   "metadata": {},
   "source": [
    "Graphiques sous forme de pdf (1 graphique par page) :"
   ]
  },
  {
   "cell_type": "code",
   "execution_count": null,
   "id": "b0b16163",
   "metadata": {},
   "outputs": [],
   "source": [
    "mes_couleurs = ['#CCFF33', '#70E000', '#38B000', '#008000', '#03045E', '#0077B6', '#00B4D8', '#90E0EF', '#E85D04', '#D00000', '#9D0208', '#6A040F', '#9D1374', '#C9184A', '#FF4D6D', '#FF758F']\n",
    "genes = profondeur_grouped['NM'].unique()\n",
    "\n",
    "\n",
    "with PdfPages('graphiques_norm.pdf') as pdf:\n",
    "    for gene in genes:\n",
    "        fig, ax = plt.subplots(figsize=(10, 6))\n",
    "\n",
    "        df_gene = profondeur_grouped[profondeur_grouped['NM'] == gene]\n",
    "        gene_symbol = df_gene['symbol'].iloc[0]\n",
    "        \n",
    "\n",
    "        if df_gene['exonCount'].iloc[0] == 1:\n",
    "            for i, (echantillon, group) in enumerate(df_gene.groupby('échantillon')):\n",
    "                couleur = mes_couleurs[i % len(mes_couleurs)]\n",
    "                ax.plot(1, group['profondeur_norm'].mean(), marker='o', label=echantillon, color=couleur)\n",
    "                ax.set_xticks([0,1,2])\n",
    "        else:\n",
    "            for j, (echantillon, group) in enumerate(df_gene.groupby('échantillon')):\n",
    "                couleur = mes_couleurs[j % len(mes_couleurs)]\n",
    "                ax.plot(group['exon'], group['profondeur_norm'], label=echantillon, color=couleur)\n",
    "\n",
    "        ax.xaxis.set_major_locator(plt.MaxNLocator(integer=True))\n",
    "        ax.set_xlabel('Exons')\n",
    "        ax.set_ylabel('Profondeur moyenne')\n",
    "        ax.set_title(f'{gene_symbol} ({gene_nm})')\n",
    "        ax.legend(loc='upper right', bbox_to_anchor=(1.3, 1))\n",
    "\n",
    "        plt.xticks(rotation=45)\n",
    "        plt.tight_layout()\n",
    "\n",
    "        plt.show()\n",
    "        \n",
    "        pdf.savefig(fig)\n",
    "        plt.close()\n",
    "\n",
    "print(\"Les graphiques ont été exportés dans 'graphiques_norm.pdf'.\")"
   ]
  },
  {
   "cell_type": "markdown",
   "id": "382b097a",
   "metadata": {},
   "source": [
    "Vue d'ensemble des graphiques (.jpg):"
   ]
  },
  {
   "cell_type": "code",
   "execution_count": 20,
   "id": "5dcb55b7",
   "metadata": {},
   "outputs": [
    {
     "name": "stdout",
     "output_type": "stream",
     "text": [
      "Les graphiques ont été exportés dans 'graphiques_norm.jpg'.\n"
     ]
    }
   ],
   "source": [
    "from matplotlib.ticker import MaxNLocator, FixedLocator\n",
    "\n",
    "mes_couleurs = [\n",
    "    '#CCFF33', '#70E000', '#38B000', '#008000', '#03045E', '#0077B6', '#00B4D8', '#90E0EF', \n",
    "    '#E85D04', '#D00000', '#9D0208', '#6A040F', '#9D1374', '#C9184A', '#FF4D6D', '#FF758F'\n",
    "]\n",
    "\n",
    "genes = profondeur_grouped['NM'].unique()\n",
    "\n",
    "n_rows = 13  \n",
    "n_cols = 20  \n",
    "fig, axes = plt.subplots(n_rows, n_cols, figsize=(60, 40))\n",
    "\n",
    "axes = axes.flatten()\n",
    "\n",
    "for idx, gene in enumerate(genes):\n",
    "    if idx >= len(axes):\n",
    "        break  \n",
    "\n",
    "    ax = axes[idx]\n",
    "\n",
    "    df_gene = profondeur_grouped[profondeur_grouped['NM'] == gene]\n",
    "    gene_symbol = df_gene['symbol'].iloc[0]\n",
    "\n",
    "    if df_gene['exonCount'].iloc[0] == 1:\n",
    "        for i, (echantillon, group) in enumerate(df_gene.groupby('échantillon')):\n",
    "            couleur = mes_couleurs[i % len(mes_couleurs)]\n",
    "            ax.plot([1], [group['profondeur_norm'].mean()], marker='o', label=echantillon, color=couleur)\n",
    "            ax.set_xticks([0, 1, 2])\n",
    "    else:\n",
    "        for j, (echantillon, group) in enumerate(df_gene.groupby('échantillon')):\n",
    "            couleur = mes_couleurs[j % len(mes_couleurs)]\n",
    "            ax.plot(group['exon'], group['profondeur_norm'], label=echantillon, color=couleur)\n",
    "\n",
    "    ax.xaxis.set_major_locator(plt.MaxNLocator(integer=True))\n",
    "    ax.set_title(f'{gene_symbol} ({gene_nm})')\n",
    "    ax.grid(axis='y', linestyle='--', linewidth=0.5)\n",
    "    plt.xticks(rotation=45)\n",
    "\n",
    "for idx in range(len(genes), len(axes)):\n",
    "    fig.delaxes(axes[idx])\n",
    "\n",
    "plt.tight_layout()\n",
    "plt.savefig('graphiques_norm.jpg', format='jpeg', dpi=150)\n",
    "plt.close()\n",
    "\n",
    "print(\"Les graphiques ont été exportés dans 'graphiques_norm.jpg'.\")\n"
   ]
  },
  {
   "cell_type": "markdown",
   "id": "52702371",
   "metadata": {},
   "source": [
    "## Score delta"
   ]
  },
  {
   "cell_type": "code",
   "execution_count": 2,
   "id": "3892c616",
   "metadata": {},
   "outputs": [],
   "source": [
    "gene_scores = pd.read_csv('gene_scores', sep='\\t')"
   ]
  },
  {
   "cell_type": "markdown",
   "id": "4d9f05ae",
   "metadata": {},
   "source": [
    "Graphiques sous forme de pdf (1 graphique par page) :"
   ]
  },
  {
   "cell_type": "code",
   "execution_count": 3,
   "id": "54e6c35a",
   "metadata": {},
   "outputs": [
    {
     "name": "stderr",
     "output_type": "stream",
     "text": [
      "C:\\Users\\33651\\AppData\\Local\\Temp\\ipykernel_37056\\2680010677.py:28: UserWarning: Attempting to set identical low and high ylims makes transformation singular; automatically expanding.\n",
      "  plt.ylim(-y_limit, y_limit)\n",
      "C:\\Users\\33651\\AppData\\Local\\Temp\\ipykernel_37056\\2680010677.py:28: UserWarning: Attempting to set identical low and high ylims makes transformation singular; automatically expanding.\n",
      "  plt.ylim(-y_limit, y_limit)\n"
     ]
    }
   ],
   "source": [
    "from matplotlib.ticker import MaxNLocator\n",
    "\n",
    "with PdfPages('gene_scores_plots.pdf') as pdf:\n",
    "    for _, group in gene_scores.groupby(['Groupe', 'symbol', 'NM']):\n",
    "        gene_nm = group['NM'].iloc[0]\n",
    "        gene_symbol = group['symbol'].iloc[0]\n",
    "\n",
    "        plt.figure(figsize=(10, 6))\n",
    "        ax = plt.gca() \n",
    "\n",
    "        if group['exonCount'].iloc[0] == 1:\n",
    "            plt.plot(1, group['score_delta'].iloc[0], marker='o', linestyle='-')\n",
    "            ax.set_xticks([0, 1, 2])\n",
    "        else:\n",
    "            plt.plot(group['exon'], group['score_delta'], marker='o', linestyle='-')\n",
    "            ax.xaxis.set_major_locator(MaxNLocator(integer=True))\n",
    "\n",
    "        plt.xlabel('Exon')\n",
    "        plt.ylabel('Score Delta')\n",
    "        plt.title(f'Score Delta par exon pour le gène {gene_symbol} ({gene_nm})')\n",
    "        plt.axhline(y=0, color='k', linestyle='--', linewidth=0.5)\n",
    "\n",
    "        delta_min = group['score_delta'].min()\n",
    "        delta_max = group['score_delta'].max()\n",
    "        y_limit = max(abs(delta_min), abs(delta_max))\n",
    "        y_limit *= 1.1\n",
    "\n",
    "        plt.ylim(-y_limit, y_limit)\n",
    "        plt.yticks([-y_limit, 0, y_limit], ['Total +', '0', 'PolyA +'])\n",
    "        plt.xticks(rotation=45)\n",
    "        plt.grid(axis='y', linestyle='--', linewidth=0.5)\n",
    "        pdf.savefig()\n",
    "        plt.close()\n",
    "\n"
   ]
  },
  {
   "cell_type": "markdown",
   "id": "07f9cb20",
   "metadata": {},
   "source": [
    "Vue d'ensemble des graphiques (.jpg):"
   ]
  },
  {
   "cell_type": "code",
   "execution_count": 4,
   "id": "f5b73a8b",
   "metadata": {},
   "outputs": [
    {
     "name": "stderr",
     "output_type": "stream",
     "text": [
      "C:\\Users\\33651\\AppData\\Local\\Temp\\ipykernel_31260\\3516512892.py:35: UserWarning: Attempting to set identical low and high ylims makes transformation singular; automatically expanding.\n",
      "  ax.set_ylim(-y_limit, y_limit)\n",
      "C:\\Users\\33651\\AppData\\Local\\Temp\\ipykernel_31260\\3516512892.py:35: UserWarning: Attempting to set identical low and high ylims makes transformation singular; automatically expanding.\n",
      "  ax.set_ylim(-y_limit, y_limit)\n"
     ]
    }
   ],
   "source": [
    "from matplotlib.ticker import MaxNLocator\n",
    "n_rows = 13  \n",
    "n_cols = 20  \n",
    "fig, axes = plt.subplots(n_rows, n_cols, figsize=(60, 40))\n",
    "\n",
    "axes = axes.flatten()\n",
    "\n",
    "for idx, (_, group) in enumerate(gene_scores.groupby(['Groupe', 'symbol', 'NM'])):\n",
    "    if idx >= len(axes):\n",
    "        break \n",
    "\n",
    "    gene_nm = group['NM'].iloc[0]\n",
    "    gene_symbol = group['symbol'].iloc[0]\n",
    "\n",
    "    ax = axes[idx]\n",
    "\n",
    "    if group['exonCount'].iloc[0] == 1:\n",
    "        ax.plot(1, group['score_delta'].iloc[0], marker='o', linestyle='-')\n",
    "        ax.set_xticks([0, 1, 2])\n",
    "    else:\n",
    "        ax.plot(group['exon'], group['score_delta'], marker='o', linestyle='-')\n",
    "        ax.xaxis.set_major_locator(MaxNLocator(integer=True))\n",
    "\n",
    "    ax.set_xlabel('Exon')\n",
    "    ax.set_ylabel('Score Delta')\n",
    "    ax.set_title(f'{gene_symbol} ({gene_nm})')\n",
    "    ax.axhline(y=0, color='k', linestyle='--', linewidth=0.5)\n",
    "\n",
    "    delta_min = group['score_delta'].min()\n",
    "    delta_max = group['score_delta'].max()\n",
    "    y_limit = max(abs(delta_min), abs(delta_max))\n",
    "    y_limit *= 1.1\n",
    "\n",
    "    ax.set_ylim(-y_limit, y_limit)\n",
    "    ax.set_yticks([-y_limit, 0, y_limit])\n",
    "    ax.set_yticklabels(['Total +', '0', 'PolyA +'])\n",
    "    ax.grid(axis='y', linestyle='--', linewidth=0.5)\n",
    "\n",
    "for idx in range(len(gene_scores.groupby(['Groupe', 'symbol', 'NM'])), len(axes)):\n",
    "    fig.delaxes(axes[idx])\n",
    "\n",
    "plt.tight_layout()\n",
    "plt.savefig('gene_scores_plots.jpg', format='jpeg', dpi=150)\n",
    "plt.close()\n",
    "\n"
   ]
  }
 ],
 "metadata": {
  "kernelspec": {
   "display_name": "Python 3 (ipykernel)",
   "language": "python",
   "name": "python3"
  },
  "language_info": {
   "codemirror_mode": {
    "name": "ipython",
    "version": 3
   },
   "file_extension": ".py",
   "mimetype": "text/x-python",
   "name": "python",
   "nbconvert_exporter": "python",
   "pygments_lexer": "ipython3",
   "version": "3.11.4"
  }
 },
 "nbformat": 4,
 "nbformat_minor": 5
}
